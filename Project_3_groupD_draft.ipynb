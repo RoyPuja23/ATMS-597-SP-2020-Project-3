{
  "nbformat": 4,
  "nbformat_minor": 0,
  "metadata": {
    "colab": {
      "name": "Project_3_groupD_draft.ipynb",
      "provenance": []
    },
    "kernelspec": {
      "name": "python3",
      "display_name": "Python 3"
    }
  },
  "cells": [
    {
      "cell_type": "code",
      "metadata": {
        "id": "SQwRQCuNXy38",
        "colab_type": "code",
        "outputId": "adf1118d-4ae1-42b4-ce39-0a640b89ede1",
        "colab": {
          "base_uri": "https://localhost:8080/",
          "height": 444
        }
      },
      "source": [
        "!pip install pydap\n",
        "!pip install netcdf4\n",
        "%pylab inline\n",
        "import pandas as pd\n",
        "import xarray as xr"
      ],
      "execution_count": 0,
      "outputs": [
        {
          "output_type": "stream",
          "text": [
            "Collecting pydap\n",
            "\u001b[?25l  Downloading https://files.pythonhosted.org/packages/9e/ad/01367f79b24015e223dd7679e4c9b16a6792fe5a9772e45e5f81b2c4a021/Pydap-3.2.2-py3-none-any.whl (2.3MB)\n",
            "\u001b[K     |████████████████████████████████| 2.3MB 3.5MB/s \n",
            "\u001b[?25hRequirement already satisfied: six>=1.4.0 in /usr/local/lib/python3.6/dist-packages (from pydap) (1.12.0)\n",
            "Requirement already satisfied: Jinja2 in /usr/local/lib/python3.6/dist-packages (from pydap) (2.11.1)\n",
            "Requirement already satisfied: beautifulsoup4 in /usr/local/lib/python3.6/dist-packages (from pydap) (4.6.3)\n",
            "Requirement already satisfied: docopt in /usr/local/lib/python3.6/dist-packages (from pydap) (0.6.2)\n",
            "Collecting Webob\n",
            "\u001b[?25l  Downloading https://files.pythonhosted.org/packages/18/3c/de37900faff3c95c7d55dd557aa71bd77477950048983dcd4b53f96fde40/WebOb-1.8.6-py2.py3-none-any.whl (114kB)\n",
            "\u001b[K     |████████████████████████████████| 122kB 30.7MB/s \n",
            "\u001b[?25hRequirement already satisfied: numpy in /usr/local/lib/python3.6/dist-packages (from pydap) (1.17.5)\n",
            "Requirement already satisfied: MarkupSafe>=0.23 in /usr/local/lib/python3.6/dist-packages (from Jinja2->pydap) (1.1.1)\n",
            "Installing collected packages: Webob, pydap\n",
            "Successfully installed Webob-1.8.6 pydap-3.2.2\n",
            "Collecting netcdf4\n",
            "\u001b[?25l  Downloading https://files.pythonhosted.org/packages/35/4f/d49fe0c65dea4d2ebfdc602d3e3d2a45a172255c151f4497c43f6d94a5f6/netCDF4-1.5.3-cp36-cp36m-manylinux1_x86_64.whl (4.1MB)\n",
            "\u001b[K     |████████████████████████████████| 4.1MB 3.1MB/s \n",
            "\u001b[?25hRequirement already satisfied: numpy>=1.7 in /usr/local/lib/python3.6/dist-packages (from netcdf4) (1.17.5)\n",
            "Collecting cftime\n",
            "\u001b[?25l  Downloading https://files.pythonhosted.org/packages/53/35/e2fc52247871c51590d6660e684fdc619a93a29f40e3b64894bd4f8c9041/cftime-1.1.0-cp36-cp36m-manylinux1_x86_64.whl (316kB)\n",
            "\u001b[K     |████████████████████████████████| 317kB 42.7MB/s \n",
            "\u001b[?25hInstalling collected packages: cftime, netcdf4\n",
            "Successfully installed cftime-1.1.0 netcdf4-1.5.3\n",
            "Populating the interactive namespace from numpy and matplotlib\n"
          ],
          "name": "stdout"
        }
      ]
    },
    {
      "cell_type": "markdown",
      "metadata": {
        "id": "fO6dThq6XNB-",
        "colab_type": "text"
      },
      "source": [
        "# **Long Term Global Mean Fields**"
      ]
    },
    {
      "cell_type": "code",
      "metadata": {
        "id": "HY8tGXqDtxX5",
        "colab_type": "code",
        "outputId": "c824b489-982a-4976-a436-82deb73f78f8",
        "colab": {
          "base_uri": "https://localhost:8080/",
          "height": 221
        }
      },
      "source": [
        "# 250 hPa wind vectors and wind speed \n",
        "\n",
        "windu_250_ltm = xr.open_dataset('https://www.esrl.noaa.gov/psd/thredds/dodsC/Datasets/ncep.reanalysis.derived/pressure/uwnd.mon.ltm.nc', engine='netcdf4').sel(level=250)\n",
        "\n",
        "windv_250_ltm = xr.open_dataset('https://www.esrl.noaa.gov/psd/thredds/dodsC/Datasets/ncep.reanalysis.derived/pressure/vwnd.mon.ltm.nc', engine='netcdf4').sel(level=250)\n",
        "\n",
        "windspd_250_ltm = xr.open_dataset('https://www.esrl.noaa.gov/psd/thredds/dodsC/Datasets/ncep.reanalysis.derived/pressure/wspd.mon.ltm.nc', engine='netcdf4').sel(level=250)\n",
        "\n",
        "# 500 hPa wind vectors and geopotential height \n",
        "\n",
        "windu_500_ltm = xr.open_dataset('https://www.esrl.noaa.gov/psd/thredds/dodsC/Datasets/ncep.reanalysis.derived/pressure/uwnd.mon.ltm.nc', engine='netcdf4').sel(level=500)\n",
        "\n",
        "windv_500_ltm = xr.open_dataset('https://www.esrl.noaa.gov/psd/thredds/dodsC/Datasets/ncep.reanalysis.derived/pressure/vwnd.mon.ltm.nc', engine='netcdf4').sel(level=500)\n",
        "\n",
        "hgt_500 = xr.open_dataset('https://www.esrl.noaa.gov/psd/thredds/dodsC/Datasets/ncep.reanalysis.derived/pressure/hgt.mon.ltm.nc', engine='netcdf4').sel(level=500)\n",
        "\n",
        "# 850 hPa temperature, specific humidity, and wind vectors \n",
        "\n",
        "temp_800 = xr.open_dataset('https://www.esrl.noaa.gov/psd/thredds/dodsC/Datasets/ncep.reanalysis.derived/pressure/air.mon.ltm.nc', engine='netcdf4').sel(level=850)\n",
        "\n",
        "spec_hum_850 = xr.open_dataset('https://www.esrl.noaa.gov/psd/thredds/dodsC/Datasets/ncep.reanalysis.derived/pressure/shum.mon.ltm.nc', engine='netcdf4').sel(level=850)\n",
        "\n",
        "windu_850_ltm = xr.open_dataset('https://www.esrl.noaa.gov/psd/thredds/dodsC/Datasets/ncep.reanalysis.derived/pressure/uwnd.mon.ltm.nc', engine='netcdf4').sel(level=850)\n",
        "\n",
        "windv_850_ltm = xr.open_dataset('https://www.esrl.noaa.gov/psd/thredds/dodsC/Datasets/ncep.reanalysis.derived/pressure/vwnd.mon.ltm.nc', engine='netcdf4').sel(level=850)\n",
        "\n",
        "# skin temperature (Monthly Long Term Mean)\n",
        "\n",
        "skin_temp_ltm = xr.open_dataset('https://www.esrl.noaa.gov/psd/thredds/dodsC/Datasets/ncep.reanalysis.derived/surface_gauss/skt.sfc.mon.ltm.nc', engine='netcdf4')\n",
        "\n",
        "# surface winds \n",
        "\n",
        "surf_wind_u_ltm = xr.open_dataset('http://www.esrl.noaa.gov/psd/thredds/dodsC/Datasets/ncep.reanalysis.derived/surface/uwnd.mon.ltm.nc', engine='netcdf4')\n",
        "\n",
        "surf_wind_v_ltm = xr.open_dataset('http://www.esrl.noaa.gov/psd/thredds/dodsC/Datasets/ncep.reanalysis.derived/surface/vwnd.mon.ltm.nc', engine='netcdf4')\n",
        "\n",
        "# surface winds (sig995??)\n",
        "\n",
        "#surf_wind_u_ltm = xr.open_dataset('http://www.esrl.noaa.gov/psd/thredds/catalog/Datasets/ncep.reanalysis.derived/surface/uwnd.sig995.mon.ltm.nc', engine='netcdf4')\n",
        "\n",
        "#surf_wind_u_ltm = xr.open_dataset('http://www.esrl.noaa.gov/psd/thredds/catalog/Datasets/ncep.reanalysis.derived/surface/vwnd.sig995.mon.ltm.nc', engine='netcdf4')\n",
        "\n",
        "# total atmospheric column water vapor \n",
        "\n",
        "############################################################### CANT FIND ###################################"
      ],
      "execution_count": 27,
      "outputs": [
        {
          "output_type": "stream",
          "text": [
            "/usr/local/lib/python3.6/dist-packages/xarray/coding/times.py:426: SerializationWarning: Unable to decode time axis into full numpy.datetime64 objects, continuing using cftime.datetime objects instead, reason: dates out of range\n",
            "  dtype = _decode_cf_datetime_dtype(data, units, calendar, self.use_cftime)\n",
            "/usr/local/lib/python3.6/dist-packages/numpy/core/_asarray.py:85: SerializationWarning: Unable to decode time axis into full numpy.datetime64 objects, continuing using cftime.datetime objects instead, reason: dates out of range\n",
            "  return array(a, dtype, copy=False, order=order)\n",
            "/usr/local/lib/python3.6/dist-packages/xarray/coding/times.py:426: SerializationWarning: Unable to decode time axis into full numpy.datetime64 objects, continuing using cftime.datetime objects instead, reason: dates out of range\n",
            "  dtype = _decode_cf_datetime_dtype(data, units, calendar, self.use_cftime)\n",
            "/usr/local/lib/python3.6/dist-packages/numpy/core/_asarray.py:85: SerializationWarning: Unable to decode time axis into full numpy.datetime64 objects, continuing using cftime.datetime objects instead, reason: dates out of range\n",
            "  return array(a, dtype, copy=False, order=order)\n",
            "/usr/local/lib/python3.6/dist-packages/xarray/coding/times.py:426: SerializationWarning: Unable to decode time axis into full numpy.datetime64 objects, continuing using cftime.datetime objects instead, reason: dates out of range\n",
            "  dtype = _decode_cf_datetime_dtype(data, units, calendar, self.use_cftime)\n",
            "/usr/local/lib/python3.6/dist-packages/numpy/core/_asarray.py:85: SerializationWarning: Unable to decode time axis into full numpy.datetime64 objects, continuing using cftime.datetime objects instead, reason: dates out of range\n",
            "  return array(a, dtype, copy=False, order=order)\n"
          ],
          "name": "stderr"
        }
      ]
    },
    {
      "cell_type": "markdown",
      "metadata": {
        "id": "npusclpAXXS-",
        "colab_type": "text"
      },
      "source": [
        "Seasonal Mean (OND) for U-wind (Example Code)"
      ]
    },
    {
      "cell_type": "code",
      "metadata": {
        "id": "LZRR0WXcUc3b",
        "colab_type": "code",
        "colab": {
          "base_uri": "https://localhost:8080/",
          "height": 136
        },
        "outputId": "4ef40cf7-928f-4087-cf92-d6ac5c497716"
      },
      "source": [
        "windu_250_ltm_OND = windu_250_ltm.isel(time=slice(9,12))\n",
        "windu_250_ltm_OND\n",
        "windu_250_ltm_OND.mean"
      ],
      "execution_count": 25,
      "outputs": [
        {
          "output_type": "execute_result",
          "data": {
            "text/html": [
              "<pre>&lt;xarray.Dataset&gt;\n",
              "Dimensions:         ()\n",
              "Coordinates:\n",
              "    level           float32 250.0\n",
              "Data variables:\n",
              "    uwnd            float32 13.560307\n",
              "    valid_yr_count  float32 1.377553e-39</pre>"
            ],
            "text/plain": [
              "<xarray.Dataset>\n",
              "Dimensions:         ()\n",
              "Coordinates:\n",
              "    level           float32 250.0\n",
              "Data variables:\n",
              "    uwnd            float32 13.560307\n",
              "    valid_yr_count  float32 1.377553e-39"
            ]
          },
          "metadata": {
            "tags": []
          },
          "execution_count": 25
        }
      ]
    },
    {
      "cell_type": "markdown",
      "metadata": {
        "id": "ndvZwQCjXhwg",
        "colab_type": "text"
      },
      "source": [
        "# **Extreme Precipitation Days (1996-2019)**"
      ]
    },
    {
      "cell_type": "code",
      "metadata": {
        "id": "jX_g4dwKXz7C",
        "colab_type": "code",
        "colab": {}
      },
      "source": [
        "years = pd.date_range(start='1996-01-01', end='2019-12-31', freq='D')\n",
        "yearmon = years[(years.month==10) | (years.month==11) | (years.month==12)]\n",
        "\n"
      ],
      "execution_count": 0,
      "outputs": []
    },
    {
      "cell_type": "code",
      "metadata": {
        "id": "X4xoY6o4tu0r",
        "colab_type": "code",
        "colab": {}
      },
      "source": [
        ""
      ],
      "execution_count": 0,
      "outputs": []
    },
    {
      "cell_type": "code",
      "metadata": {
        "id": "aA77VrUvYAMd",
        "colab_type": "code",
        "outputId": "4aff46b8-8a4b-4e9d-9e0c-1edd32e38de4",
        "colab": {
          "base_uri": "https://localhost:8080/",
          "height": 444
        }
      },
      "source": [
        "windv_250_ds = []\n",
        "windu_250_ds = []\n",
        "hgt_500_ds = []\n",
        "\n",
        "years = [i for i in range(1996,2020)]\n",
        "\n",
        "\n",
        "for iyr in years:\n",
        "    dates_year = yearmon[yearmon.year==iyr]\n",
        "    print('working on '+str(iyr))\n",
        "    #find 3 random dates in 1996 during June - August - here you would put your extreme precip dates for this year\n",
        "    #dates = random_dates2(pd.datetime(iyr,6,1), pd.datetime(iyr,8,31), 3)\n",
        "    #let's access geopotential height at 500 hPa\n",
        "    windu_250 = xr.open_dataset('https://www.esrl.noaa.gov/psd/thredds/dodsC/Datasets/ncep.reanalysis.dailyavgs/pressure/uwnd.'+str(iyr)+'.nc',\n",
        "                         engine='netcdf4').sel(level=250,time=dates_year)\n",
        "    windu_250_ds.append(windu_250)\n",
        "\n",
        "    windv_250 = xr.open_dataset('https://www.esrl.noaa.gov/psd/thredds/dodsC/Datasets/ncep.reanalysis.dailyavgs/pressure/vwnd.'+str(iyr)+'.nc',\n",
        "                         engine='netcdf4').sel(level=250,time=dates_year)\n",
        "    windv_250_ds.append(windv_250)\n",
        "\n",
        "    hgt_500 = xr.open_dataset('https://www.esrl.noaa.gov/psd/thredds/dodsC/Datasets/ncep.reanalysis.dailyavgs/pressure/hgt.'+str(iyr)+'.nc',\n",
        "                         engine='netcdf4').sel(level=500,time=dates_year)\n",
        "    hgt_500_ds.append(hgt_500)\n",
        "\n"
      ],
      "execution_count": 0,
      "outputs": [
        {
          "output_type": "stream",
          "text": [
            "working on 1996\n",
            "working on 1997\n",
            "working on 1998\n",
            "working on 1999\n",
            "working on 2000\n",
            "working on 2001\n",
            "working on 2002\n",
            "working on 2003\n",
            "working on 2004\n",
            "working on 2005\n",
            "working on 2006\n",
            "working on 2007\n",
            "working on 2008\n",
            "working on 2009\n",
            "working on 2010\n",
            "working on 2011\n",
            "working on 2012\n",
            "working on 2013\n",
            "working on 2014\n",
            "working on 2015\n",
            "working on 2016\n",
            "working on 2017\n",
            "working on 2018\n",
            "working on 2019\n"
          ],
          "name": "stdout"
        }
      ]
    },
    {
      "cell_type": "code",
      "metadata": {
        "id": "UYKKMo5qYGuk",
        "colab_type": "code",
        "outputId": "43e9e615-5971-4418-d177-4be415d4d918",
        "colab": {
          "base_uri": "https://localhost:8080/",
          "height": 337
        }
      },
      "source": [
        "windu_250_ds_yearcombined = xr.concat(windu_250_ds, dim='time')\n",
        "windu_250_ds_yearcombined\n",
        "\n",
        "windv_250_ds_yearcombined = xr.concat(windv_250_ds, dim='time')\n",
        "windv_250_ds_yearcombined\n",
        "\n",
        "# hgt_500_ds_yearcombined = xr.concat(hgt_500_ds, dim='time')\n",
        "# hgt_500_ds_yearcombined"
      ],
      "execution_count": 0,
      "outputs": [
        {
          "output_type": "execute_result",
          "data": {
            "text/html": [
              "<pre>&lt;xarray.Dataset&gt;\n",
              "Dimensions:  (lat: 73, lon: 144, time: 2208)\n",
              "Coordinates:\n",
              "    level    float32 250.0\n",
              "  * lon      (lon) float32 0.0 2.5 5.0 7.5 10.0 ... 350.0 352.5 355.0 357.5\n",
              "  * lat      (lat) float32 90.0 87.5 85.0 82.5 80.0 ... -82.5 -85.0 -87.5 -90.0\n",
              "  * time     (time) datetime64[ns] 1996-10-01 1996-10-02 ... 2019-12-31\n",
              "Data variables:\n",
              "    vwnd     (time, lat, lon) float32 -7.639984 -7.7499847 ... 7.2750006\n",
              "Attributes:\n",
              "    References:                      http://www.esrl.noaa.gov/psd/data/gridde...\n",
              "    dataset_title:                   NCEP-NCAR Reanalysis 1\n",
              "    Conventions:                     COARDS\n",
              "    title:                           mean daily NMC reanalysis (1996)\n",
              "    description:                     Data is from NMC initialized reanalysis\\...\n",
              "    platform:                        Model\n",
              "    history:                         created 95/02/06 by Hoop (netCDF2.3)\\nCo...\n",
              "    DODS_EXTRA.Unlimited_Dimension:  time</pre>"
            ],
            "text/plain": [
              "<xarray.Dataset>\n",
              "Dimensions:  (lat: 73, lon: 144, time: 2208)\n",
              "Coordinates:\n",
              "    level    float32 250.0\n",
              "  * lon      (lon) float32 0.0 2.5 5.0 7.5 10.0 ... 350.0 352.5 355.0 357.5\n",
              "  * lat      (lat) float32 90.0 87.5 85.0 82.5 80.0 ... -82.5 -85.0 -87.5 -90.0\n",
              "  * time     (time) datetime64[ns] 1996-10-01 1996-10-02 ... 2019-12-31\n",
              "Data variables:\n",
              "    vwnd     (time, lat, lon) float32 -7.639984 -7.7499847 ... 7.2750006\n",
              "Attributes:\n",
              "    References:                      http://www.esrl.noaa.gov/psd/data/gridde...\n",
              "    dataset_title:                   NCEP-NCAR Reanalysis 1\n",
              "    Conventions:                     COARDS\n",
              "    title:                           mean daily NMC reanalysis (1996)\n",
              "    description:                     Data is from NMC initialized reanalysis\\...\n",
              "    platform:                        Model\n",
              "    history:                         created 95/02/06 by Hoop (netCDF2.3)\\nCo...\n",
              "    DODS_EXTRA.Unlimited_Dimension:  time"
            ]
          },
          "metadata": {
            "tags": []
          },
          "execution_count": 9
        }
      ]
    },
    {
      "cell_type": "markdown",
      "metadata": {
        "id": "buBvKfedXpsO",
        "colab_type": "text"
      },
      "source": [
        "# **Baseline for Comparison (1981-2010)**"
      ]
    },
    {
      "cell_type": "code",
      "metadata": {
        "id": "25netz0aXu31",
        "colab_type": "code",
        "colab": {
          "base_uri": "https://localhost:8080/",
          "height": 901
        },
        "outputId": "8f70d564-5584-4997-e46d-17c42957ab10"
      },
      "source": [
        "# 250 hPa wind vectors and wind speed \n",
        "\n",
        "windu_250_baseline = xr.open_dataset('https://www.esrl.noaa.gov/psd/thredds/dodsC/Datasets/ncep.reanalysis.derived/pressure/uwnd.mon.1981-2010.ltm.nc', engine='netcdf4').sel(level=250)\n",
        "\n",
        "windv_250_baseline = xr.open_dataset('https://www.esrl.noaa.gov/psd/thredds/dodsC/Datasets/ncep.reanalysis.derived/pressure/vwnd.mon.1981-2010.ltm.nc', engine='netcdf4').sel(level=250)\n",
        "\n",
        "windspd_250_baseline = xr.open_dataset('https://www.esrl.noaa.gov/psd/thredds/dodsC/Datasets/ncep.reanalysis.derived/pressure/wspd.mon.1981-2010.ltm.nc', engine='netcdf4').sel(level=250)\n",
        "\n",
        "# 500 hPa wind vectors and geopotential height \n",
        "\n",
        "windu_500_baseline = xr.open_dataset('https://www.esrl.noaa.gov/psd/thredds/dodsC/Datasets/ncep.reanalysis.derived/pressure/uwnd.mon.1981-2010.ltm.nc', engine='netcdf4').sel(level=500)\n",
        "\n",
        "windv_500_baseline = xr.open_dataset('https://www.esrl.noaa.gov/psd/thredds/dodsC/Datasets/ncep.reanalysis.derived/pressure/vwnd.mon.1981-2010.ltm.nc', engine='netcdf4').sel(level=500)\n",
        "\n",
        "hgt_500_baseline = xr.open_dataset('https://www.esrl.noaa.gov/psd/thredds/dodsC/Datasets/ncep.reanalysis.derived/pressure/hgt.mon.1981-2010.ltm.nc', engine='netcdf4').sel(level=500)\n",
        "\n",
        "# 850 hPa temperature, specific humidity, and wind vectors \n",
        "\n",
        "temp_800_baseline = xr.open_dataset('https://www.esrl.noaa.gov/psd/thredds/dodsC/Datasets/ncep.reanalysis.derived/pressure/air.mon.1981-2010.ltm.nc', engine='netcdf4').sel(level=850)\n",
        "\n",
        "spec_hum_850_baseline = xr.open_dataset('https://www.esrl.noaa.gov/psd/thredds/dodsC/Datasets/ncep.reanalysis.derived/pressure/shum.mon.1981-2010.ltm.nc', engine='netcdf4').sel(level=850)\n",
        "\n",
        "windu_850_ltm_baseline = xr.open_dataset('https://www.esrl.noaa.gov/psd/thredds/dodsC/Datasets/ncep.reanalysis.derived/pressure/uwnd.mon.1981-2010.ltm.nc', engine='netcdf4').sel(level=850)\n",
        "\n",
        "windv_850_ltm_baseline = xr.open_dataset('https://www.esrl.noaa.gov/psd/thredds/dodsC/Datasets/ncep.reanalysis.derived/pressure/vwnd.mon.1981-2010.ltm.nc', engine='netcdf4').sel(level=850)\n",
        "\n",
        "# skin temperature \n",
        "\n",
        "skin_temp_ltm_baseline = xr.open_dataset('https://www.esrl.noaa.gov/psd/thredds/dodsC/Datasets/ncep.reanalysis.derived/surface_gauss/skt.sfc.mon.1981-2010.ltm.nc', engine='netcdf4')\n",
        "\n",
        "# surface winds \n",
        "\n",
        "surf_wind_u_baseline = xr.open_dataset('http://www.esrl.noaa.gov/psd/thredds/dodsC/Datasets/ncep.reanalysis.derived/surface/uwnd.sig995.mon.1981-2010.ltm.nc', engine='netcdf4')\n",
        "\n",
        "surf_wind_v_baseline = xr.open_dataset('http://www.esrl.noaa.gov/psd/thredds/dodsC/Datasets/ncep.reanalysis.derived/surface/vwnd.sig995.mon.1981-2010.ltm.nc', engine='netcdf4')\n",
        "\n",
        "# surface winds (sig995??)\n",
        "\n",
        "#surf_wind_u_baseline = xr.open_dataset('http://www.esrl.noaa.gov/psd/thredds/catalog/Datasets/ncep.reanalysis.derived/surface/uwnd.sig995.mon.1981-2010.ltm.nc', engine='netcdf4')\n",
        "\n",
        "#surf_wind_u_baseline = xr.open_dataset('http://www.esrl.noaa.gov/psd/thredds/catalog/Datasets/ncep.reanalysis.derived/surface/vwnd.sig995.mon.1981-2010.ltm.nc', engine='netcdf4')\n",
        "\n",
        "# total atmospheric column water vapor \n",
        "\n",
        "############################################################### CANT FIND ###################################"
      ],
      "execution_count": 34,
      "outputs": [
        {
          "output_type": "stream",
          "text": [
            "/usr/local/lib/python3.6/dist-packages/xarray/coding/times.py:426: SerializationWarning: Unable to decode time axis into full numpy.datetime64 objects, continuing using cftime.datetime objects instead, reason: dates out of range\n",
            "  dtype = _decode_cf_datetime_dtype(data, units, calendar, self.use_cftime)\n",
            "/usr/local/lib/python3.6/dist-packages/numpy/core/_asarray.py:85: SerializationWarning: Unable to decode time axis into full numpy.datetime64 objects, continuing using cftime.datetime objects instead, reason: dates out of range\n",
            "  return array(a, dtype, copy=False, order=order)\n",
            "/usr/local/lib/python3.6/dist-packages/xarray/coding/times.py:426: SerializationWarning: Unable to decode time axis into full numpy.datetime64 objects, continuing using cftime.datetime objects instead, reason: dates out of range\n",
            "  dtype = _decode_cf_datetime_dtype(data, units, calendar, self.use_cftime)\n",
            "/usr/local/lib/python3.6/dist-packages/numpy/core/_asarray.py:85: SerializationWarning: Unable to decode time axis into full numpy.datetime64 objects, continuing using cftime.datetime objects instead, reason: dates out of range\n",
            "  return array(a, dtype, copy=False, order=order)\n",
            "/usr/local/lib/python3.6/dist-packages/xarray/coding/times.py:426: SerializationWarning: Unable to decode time axis into full numpy.datetime64 objects, continuing using cftime.datetime objects instead, reason: dates out of range\n",
            "  dtype = _decode_cf_datetime_dtype(data, units, calendar, self.use_cftime)\n",
            "/usr/local/lib/python3.6/dist-packages/numpy/core/_asarray.py:85: SerializationWarning: Unable to decode time axis into full numpy.datetime64 objects, continuing using cftime.datetime objects instead, reason: dates out of range\n",
            "  return array(a, dtype, copy=False, order=order)\n",
            "/usr/local/lib/python3.6/dist-packages/xarray/coding/times.py:426: SerializationWarning: Unable to decode time axis into full numpy.datetime64 objects, continuing using cftime.datetime objects instead, reason: dates out of range\n",
            "  dtype = _decode_cf_datetime_dtype(data, units, calendar, self.use_cftime)\n",
            "/usr/local/lib/python3.6/dist-packages/numpy/core/_asarray.py:85: SerializationWarning: Unable to decode time axis into full numpy.datetime64 objects, continuing using cftime.datetime objects instead, reason: dates out of range\n",
            "  return array(a, dtype, copy=False, order=order)\n",
            "/usr/local/lib/python3.6/dist-packages/xarray/coding/times.py:426: SerializationWarning: Unable to decode time axis into full numpy.datetime64 objects, continuing using cftime.datetime objects instead, reason: dates out of range\n",
            "  dtype = _decode_cf_datetime_dtype(data, units, calendar, self.use_cftime)\n",
            "/usr/local/lib/python3.6/dist-packages/numpy/core/_asarray.py:85: SerializationWarning: Unable to decode time axis into full numpy.datetime64 objects, continuing using cftime.datetime objects instead, reason: dates out of range\n",
            "  return array(a, dtype, copy=False, order=order)\n",
            "/usr/local/lib/python3.6/dist-packages/xarray/coding/times.py:426: SerializationWarning: Unable to decode time axis into full numpy.datetime64 objects, continuing using cftime.datetime objects instead, reason: dates out of range\n",
            "  dtype = _decode_cf_datetime_dtype(data, units, calendar, self.use_cftime)\n",
            "/usr/local/lib/python3.6/dist-packages/numpy/core/_asarray.py:85: SerializationWarning: Unable to decode time axis into full numpy.datetime64 objects, continuing using cftime.datetime objects instead, reason: dates out of range\n",
            "  return array(a, dtype, copy=False, order=order)\n",
            "/usr/local/lib/python3.6/dist-packages/xarray/coding/times.py:426: SerializationWarning: Unable to decode time axis into full numpy.datetime64 objects, continuing using cftime.datetime objects instead, reason: dates out of range\n",
            "  dtype = _decode_cf_datetime_dtype(data, units, calendar, self.use_cftime)\n",
            "/usr/local/lib/python3.6/dist-packages/numpy/core/_asarray.py:85: SerializationWarning: Unable to decode time axis into full numpy.datetime64 objects, continuing using cftime.datetime objects instead, reason: dates out of range\n",
            "  return array(a, dtype, copy=False, order=order)\n",
            "/usr/local/lib/python3.6/dist-packages/xarray/coding/times.py:426: SerializationWarning: Unable to decode time axis into full numpy.datetime64 objects, continuing using cftime.datetime objects instead, reason: dates out of range\n",
            "  dtype = _decode_cf_datetime_dtype(data, units, calendar, self.use_cftime)\n",
            "/usr/local/lib/python3.6/dist-packages/numpy/core/_asarray.py:85: SerializationWarning: Unable to decode time axis into full numpy.datetime64 objects, continuing using cftime.datetime objects instead, reason: dates out of range\n",
            "  return array(a, dtype, copy=False, order=order)\n",
            "/usr/local/lib/python3.6/dist-packages/xarray/coding/times.py:426: SerializationWarning: Unable to decode time axis into full numpy.datetime64 objects, continuing using cftime.datetime objects instead, reason: dates out of range\n",
            "  dtype = _decode_cf_datetime_dtype(data, units, calendar, self.use_cftime)\n",
            "/usr/local/lib/python3.6/dist-packages/numpy/core/_asarray.py:85: SerializationWarning: Unable to decode time axis into full numpy.datetime64 objects, continuing using cftime.datetime objects instead, reason: dates out of range\n",
            "  return array(a, dtype, copy=False, order=order)\n",
            "/usr/local/lib/python3.6/dist-packages/xarray/coding/times.py:426: SerializationWarning: Unable to decode time axis into full numpy.datetime64 objects, continuing using cftime.datetime objects instead, reason: dates out of range\n",
            "  dtype = _decode_cf_datetime_dtype(data, units, calendar, self.use_cftime)\n",
            "/usr/local/lib/python3.6/dist-packages/numpy/core/_asarray.py:85: SerializationWarning: Unable to decode time axis into full numpy.datetime64 objects, continuing using cftime.datetime objects instead, reason: dates out of range\n",
            "  return array(a, dtype, copy=False, order=order)\n",
            "/usr/local/lib/python3.6/dist-packages/xarray/coding/times.py:426: SerializationWarning: Unable to decode time axis into full numpy.datetime64 objects, continuing using cftime.datetime objects instead, reason: dates out of range\n",
            "  dtype = _decode_cf_datetime_dtype(data, units, calendar, self.use_cftime)\n",
            "/usr/local/lib/python3.6/dist-packages/numpy/core/_asarray.py:85: SerializationWarning: Unable to decode time axis into full numpy.datetime64 objects, continuing using cftime.datetime objects instead, reason: dates out of range\n",
            "  return array(a, dtype, copy=False, order=order)\n",
            "/usr/local/lib/python3.6/dist-packages/xarray/coding/times.py:426: SerializationWarning: Unable to decode time axis into full numpy.datetime64 objects, continuing using cftime.datetime objects instead, reason: dates out of range\n",
            "  dtype = _decode_cf_datetime_dtype(data, units, calendar, self.use_cftime)\n",
            "/usr/local/lib/python3.6/dist-packages/numpy/core/_asarray.py:85: SerializationWarning: Unable to decode time axis into full numpy.datetime64 objects, continuing using cftime.datetime objects instead, reason: dates out of range\n",
            "  return array(a, dtype, copy=False, order=order)\n",
            "/usr/local/lib/python3.6/dist-packages/xarray/coding/times.py:426: SerializationWarning: Unable to decode time axis into full numpy.datetime64 objects, continuing using cftime.datetime objects instead, reason: dates out of range\n",
            "  dtype = _decode_cf_datetime_dtype(data, units, calendar, self.use_cftime)\n",
            "/usr/local/lib/python3.6/dist-packages/numpy/core/_asarray.py:85: SerializationWarning: Unable to decode time axis into full numpy.datetime64 objects, continuing using cftime.datetime objects instead, reason: dates out of range\n",
            "  return array(a, dtype, copy=False, order=order)\n"
          ],
          "name": "stderr"
        }
      ]
    },
    {
      "cell_type": "markdown",
      "metadata": {
        "id": "gDpt8gy8XCzw",
        "colab_type": "text"
      },
      "source": [
        "# **Calculating Seasonal Anomalies**\n"
      ]
    },
    {
      "cell_type": "code",
      "metadata": {
        "id": "4A6SIpMOaYE_",
        "colab_type": "code",
        "colab": {}
      },
      "source": [
        ""
      ],
      "execution_count": 0,
      "outputs": []
    }
  ]
}